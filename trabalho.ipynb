{
 "cells": [
  {
   "cell_type": "code",
   "execution_count": 1,
   "metadata": {},
   "outputs": [],
   "source": [
    "from pathlib import Path\n",
    "import pandas as pd\n",
    "import plotly.express as px\n",
    "\n",
    "import src.metrics_dash_osasco as mdo\n",
    "\n",
    "pd.set_option(\"display.max_columns\", None)\n",
    "TEMPLATE = \"plotly_dark\"\n",
    "\n",
    "data_path = Path().resolve().parent / \"etl\" / \"data\" / \"processed\""
   ]
  },
  {
   "cell_type": "markdown",
   "metadata": {},
   "source": [
    "# CAGED"
   ]
  },
  {
   "cell_type": "code",
   "execution_count": 3,
   "metadata": {},
   "outputs": [
    {
     "name": "stderr",
     "output_type": "stream",
     "text": [
      "C:\\Users\\yuri.taba\\AppData\\Local\\Temp\\ipykernel_21292\\2401373776.py:1: DtypeWarning: Columns (2,13,22,23) have mixed types. Specify dtype option on import or set low_memory=False.\n",
      "  caged = pd.read_csv(data_path / \"caged.csv\", sep=\";\", encoding=\"latin1\")\n"
     ]
    },
    {
     "ename": "ValueError",
     "evalue": "Value of 'x' is not the name of a column in 'data_frame'. Expected one of ['ano', 'saldo_movimentacao'] but received: mes",
     "output_type": "error",
     "traceback": [
      "\u001b[1;31m---------------------------------------------------------------------------\u001b[0m",
      "\u001b[1;31mValueError\u001b[0m                                Traceback (most recent call last)",
      "Cell \u001b[1;32mIn[3], line 11\u001b[0m\n\u001b[0;32m      3\u001b[0m caged_grp \u001b[38;5;241m=\u001b[39m caged\u001b[38;5;241m.\u001b[39mgroupby(\u001b[38;5;124m\"\u001b[39m\u001b[38;5;124mano\u001b[39m\u001b[38;5;124m\"\u001b[39m, as_index\u001b[38;5;241m=\u001b[39m\u001b[38;5;28;01mFalse\u001b[39;00m)\u001b[38;5;241m.\u001b[39magg(\n\u001b[0;32m      4\u001b[0m     {\u001b[38;5;124m\"\u001b[39m\u001b[38;5;124msaldo_movimentacao\u001b[39m\u001b[38;5;124m\"\u001b[39m: \u001b[38;5;124m\"\u001b[39m\u001b[38;5;124msum\u001b[39m\u001b[38;5;124m\"\u001b[39m}\n\u001b[0;32m      5\u001b[0m )\n\u001b[0;32m      6\u001b[0m \u001b[38;5;66;03m# admissoes e desligamentos\u001b[39;00m\n\u001b[0;32m      7\u001b[0m \u001b[38;5;66;03m# admissoes_desligamentos = mdo.gerar_tabela_admissoes_desligamentos(caged)\u001b[39;00m\n\u001b[0;32m      8\u001b[0m \n\u001b[0;32m      9\u001b[0m \u001b[38;5;66;03m# GRÁFICOS\u001b[39;00m\n\u001b[0;32m     10\u001b[0m \u001b[38;5;66;03m# caged\u001b[39;00m\n\u001b[1;32m---> 11\u001b[0m fig_mov_month \u001b[38;5;241m=\u001b[39m px\u001b[38;5;241m.\u001b[39mbar(\n\u001b[0;32m     12\u001b[0m     caged_grp,\n\u001b[0;32m     13\u001b[0m     x\u001b[38;5;241m=\u001b[39m\u001b[38;5;124m\"\u001b[39m\u001b[38;5;124mmes\u001b[39m\u001b[38;5;124m\"\u001b[39m,\n\u001b[0;32m     14\u001b[0m     y\u001b[38;5;241m=\u001b[39m\u001b[38;5;124m\"\u001b[39m\u001b[38;5;124msaldo_movimentacao\u001b[39m\u001b[38;5;124m\"\u001b[39m,\n\u001b[0;32m     15\u001b[0m     title\u001b[38;5;241m=\u001b[39m\u001b[38;5;124m\"\u001b[39m\u001b[38;5;124mSaldo Mensal de Movimentações\u001b[39m\u001b[38;5;124m\"\u001b[39m,\n\u001b[0;32m     16\u001b[0m     template\u001b[38;5;241m=\u001b[39mTEMPLATE,\n\u001b[0;32m     17\u001b[0m )\n\u001b[0;32m     18\u001b[0m fig_mov_month\u001b[38;5;241m.\u001b[39mupdate_xaxes(tickmode\u001b[38;5;241m=\u001b[39m\u001b[38;5;124m\"\u001b[39m\u001b[38;5;124mlinear\u001b[39m\u001b[38;5;124m\"\u001b[39m, dtick\u001b[38;5;241m=\u001b[39m\u001b[38;5;124m\"\u001b[39m\u001b[38;5;124mM1\u001b[39m\u001b[38;5;124m\"\u001b[39m, tickangle\u001b[38;5;241m=\u001b[39m\u001b[38;5;241m45\u001b[39m)\n",
      "File \u001b[1;32mc:\\Users\\yuri.taba\\AppData\\Local\\anaconda3\\Lib\\site-packages\\plotly\\express\\_chart_types.py:373\u001b[0m, in \u001b[0;36mbar\u001b[1;34m(data_frame, x, y, color, pattern_shape, facet_row, facet_col, facet_col_wrap, facet_row_spacing, facet_col_spacing, hover_name, hover_data, custom_data, text, base, error_x, error_x_minus, error_y, error_y_minus, animation_frame, animation_group, category_orders, labels, color_discrete_sequence, color_discrete_map, color_continuous_scale, pattern_shape_sequence, pattern_shape_map, range_color, color_continuous_midpoint, opacity, orientation, barmode, log_x, log_y, range_x, range_y, text_auto, title, template, width, height)\u001b[0m\n\u001b[0;32m    325\u001b[0m \u001b[38;5;28;01mdef\u001b[39;00m \u001b[38;5;21mbar\u001b[39m(\n\u001b[0;32m    326\u001b[0m     data_frame\u001b[38;5;241m=\u001b[39m\u001b[38;5;28;01mNone\u001b[39;00m,\n\u001b[0;32m    327\u001b[0m     x\u001b[38;5;241m=\u001b[39m\u001b[38;5;28;01mNone\u001b[39;00m,\n\u001b[1;32m   (...)\u001b[0m\n\u001b[0;32m    367\u001b[0m     height\u001b[38;5;241m=\u001b[39m\u001b[38;5;28;01mNone\u001b[39;00m,\n\u001b[0;32m    368\u001b[0m ) \u001b[38;5;241m-\u001b[39m\u001b[38;5;241m>\u001b[39m go\u001b[38;5;241m.\u001b[39mFigure:\n\u001b[0;32m    369\u001b[0m \u001b[38;5;250m    \u001b[39m\u001b[38;5;124;03m\"\"\"\u001b[39;00m\n\u001b[0;32m    370\u001b[0m \u001b[38;5;124;03m    In a bar plot, each row of `data_frame` is represented as a rectangular\u001b[39;00m\n\u001b[0;32m    371\u001b[0m \u001b[38;5;124;03m    mark.\u001b[39;00m\n\u001b[0;32m    372\u001b[0m \u001b[38;5;124;03m    \"\"\"\u001b[39;00m\n\u001b[1;32m--> 373\u001b[0m     \u001b[38;5;28;01mreturn\u001b[39;00m make_figure(\n\u001b[0;32m    374\u001b[0m         args\u001b[38;5;241m=\u001b[39m\u001b[38;5;28mlocals\u001b[39m(),\n\u001b[0;32m    375\u001b[0m         constructor\u001b[38;5;241m=\u001b[39mgo\u001b[38;5;241m.\u001b[39mBar,\n\u001b[0;32m    376\u001b[0m         trace_patch\u001b[38;5;241m=\u001b[39m\u001b[38;5;28mdict\u001b[39m(textposition\u001b[38;5;241m=\u001b[39m\u001b[38;5;124m\"\u001b[39m\u001b[38;5;124mauto\u001b[39m\u001b[38;5;124m\"\u001b[39m),\n\u001b[0;32m    377\u001b[0m         layout_patch\u001b[38;5;241m=\u001b[39m\u001b[38;5;28mdict\u001b[39m(barmode\u001b[38;5;241m=\u001b[39mbarmode),\n\u001b[0;32m    378\u001b[0m     )\n",
      "File \u001b[1;32mc:\\Users\\yuri.taba\\AppData\\Local\\anaconda3\\Lib\\site-packages\\plotly\\express\\_core.py:2117\u001b[0m, in \u001b[0;36mmake_figure\u001b[1;34m(args, constructor, trace_patch, layout_patch)\u001b[0m\n\u001b[0;32m   2114\u001b[0m layout_patch \u001b[38;5;241m=\u001b[39m layout_patch \u001b[38;5;129;01mor\u001b[39;00m {}\n\u001b[0;32m   2115\u001b[0m apply_default_cascade(args)\n\u001b[1;32m-> 2117\u001b[0m args \u001b[38;5;241m=\u001b[39m build_dataframe(args, constructor)\n\u001b[0;32m   2118\u001b[0m \u001b[38;5;28;01mif\u001b[39;00m constructor \u001b[38;5;129;01min\u001b[39;00m [go\u001b[38;5;241m.\u001b[39mTreemap, go\u001b[38;5;241m.\u001b[39mSunburst, go\u001b[38;5;241m.\u001b[39mIcicle] \u001b[38;5;129;01mand\u001b[39;00m args[\u001b[38;5;124m\"\u001b[39m\u001b[38;5;124mpath\u001b[39m\u001b[38;5;124m\"\u001b[39m] \u001b[38;5;129;01mis\u001b[39;00m \u001b[38;5;129;01mnot\u001b[39;00m \u001b[38;5;28;01mNone\u001b[39;00m:\n\u001b[0;32m   2119\u001b[0m     args \u001b[38;5;241m=\u001b[39m process_dataframe_hierarchy(args)\n",
      "File \u001b[1;32mc:\\Users\\yuri.taba\\AppData\\Local\\anaconda3\\Lib\\site-packages\\plotly\\express\\_core.py:1513\u001b[0m, in \u001b[0;36mbuild_dataframe\u001b[1;34m(args, constructor)\u001b[0m\n\u001b[0;32m   1510\u001b[0m     args[\u001b[38;5;124m\"\u001b[39m\u001b[38;5;124mcolor\u001b[39m\u001b[38;5;124m\"\u001b[39m] \u001b[38;5;241m=\u001b[39m \u001b[38;5;28;01mNone\u001b[39;00m\n\u001b[0;32m   1511\u001b[0m \u001b[38;5;66;03m# now that things have been prepped, we do the systematic rewriting of `args`\u001b[39;00m\n\u001b[1;32m-> 1513\u001b[0m df_output, wide_id_vars \u001b[38;5;241m=\u001b[39m process_args_into_dataframe(\n\u001b[0;32m   1514\u001b[0m     args, wide_mode, var_name, value_name\n\u001b[0;32m   1515\u001b[0m )\n\u001b[0;32m   1517\u001b[0m \u001b[38;5;66;03m# now that `df_output` exists and `args` contains only references, we complete\u001b[39;00m\n\u001b[0;32m   1518\u001b[0m \u001b[38;5;66;03m# the special-case and wide-mode handling by further rewriting args and/or mutating\u001b[39;00m\n\u001b[0;32m   1519\u001b[0m \u001b[38;5;66;03m# df_output\u001b[39;00m\n\u001b[0;32m   1521\u001b[0m count_name \u001b[38;5;241m=\u001b[39m _escape_col_name(df_output, \u001b[38;5;124m\"\u001b[39m\u001b[38;5;124mcount\u001b[39m\u001b[38;5;124m\"\u001b[39m, [var_name, value_name])\n",
      "File \u001b[1;32mc:\\Users\\yuri.taba\\AppData\\Local\\anaconda3\\Lib\\site-packages\\plotly\\express\\_core.py:1234\u001b[0m, in \u001b[0;36mprocess_args_into_dataframe\u001b[1;34m(args, wide_mode, var_name, value_name)\u001b[0m\n\u001b[0;32m   1232\u001b[0m         \u001b[38;5;28;01mif\u001b[39;00m argument \u001b[38;5;241m==\u001b[39m \u001b[38;5;124m\"\u001b[39m\u001b[38;5;124mindex\u001b[39m\u001b[38;5;124m\"\u001b[39m:\n\u001b[0;32m   1233\u001b[0m             err_msg \u001b[38;5;241m+\u001b[39m\u001b[38;5;241m=\u001b[39m \u001b[38;5;124m\"\u001b[39m\u001b[38;5;130;01m\\n\u001b[39;00m\u001b[38;5;124m To use the index, pass it in directly as `df.index`.\u001b[39m\u001b[38;5;124m\"\u001b[39m\n\u001b[1;32m-> 1234\u001b[0m         \u001b[38;5;28;01mraise\u001b[39;00m \u001b[38;5;167;01mValueError\u001b[39;00m(err_msg)\n\u001b[0;32m   1235\u001b[0m \u001b[38;5;28;01melif\u001b[39;00m length \u001b[38;5;129;01mand\u001b[39;00m \u001b[38;5;28mlen\u001b[39m(df_input[argument]) \u001b[38;5;241m!=\u001b[39m length:\n\u001b[0;32m   1236\u001b[0m     \u001b[38;5;28;01mraise\u001b[39;00m \u001b[38;5;167;01mValueError\u001b[39;00m(\n\u001b[0;32m   1237\u001b[0m         \u001b[38;5;124m\"\u001b[39m\u001b[38;5;124mAll arguments should have the same length. \u001b[39m\u001b[38;5;124m\"\u001b[39m\n\u001b[0;32m   1238\u001b[0m         \u001b[38;5;124m\"\u001b[39m\u001b[38;5;124mThe length of column argument `df[\u001b[39m\u001b[38;5;132;01m%s\u001b[39;00m\u001b[38;5;124m]` is \u001b[39m\u001b[38;5;132;01m%d\u001b[39;00m\u001b[38;5;124m, whereas the \u001b[39m\u001b[38;5;124m\"\u001b[39m\n\u001b[1;32m   (...)\u001b[0m\n\u001b[0;32m   1245\u001b[0m         )\n\u001b[0;32m   1246\u001b[0m     )\n",
      "\u001b[1;31mValueError\u001b[0m: Value of 'x' is not the name of a column in 'data_frame'. Expected one of ['ano', 'saldo_movimentacao'] but received: mes"
     ]
    }
   ],
   "source": [
    "caged = pd.read_csv(data_path / \"caged.csv\", sep=\";\", encoding=\"latin1\")\n",
    "\n",
    "caged_grp = caged.groupby(\"ano\", as_index=False).agg(\n",
    "    {\"saldo_movimentacao\": \"sum\"}\n",
    ")\n",
    "# admissoes e desligamentos\n",
    "# admissoes_desligamentos = mdo.gerar_tabela_admissoes_desligamentos(caged)\n",
    "\n",
    "# GRÁFICOS\n",
    "# caged\n",
    "fig_mov_month = px.bar(\n",
    "    caged_grp,\n",
    "    x=\"mes\",\n",
    "    y=\"saldo_movimentacao\",\n",
    "    title=\"Saldo Mensal de Movimentações\",\n",
    "    template=TEMPLATE,\n",
    ")\n",
    "fig_mov_month.update_xaxes(tickmode=\"linear\", dtick=\"M1\", tickangle=45)"
   ]
  },
  {
   "cell_type": "code",
   "execution_count": null,
   "metadata": {},
   "outputs": [],
   "source": [
    "# admissoes e desligamentos\n",
    "fig_admissoes_desligamentos = px.bar(\n",
    "    admissoes_desligamentos,\n",
    "    x=\"mes\",\n",
    "    y=\"valor\",\n",
    "    color=\"tipo\",\n",
    "    barmode=\"group\",\n",
    "    title=\"Admissoes e Desligamentos por Mês\",\n",
    "    template=TEMPLATE,\n",
    ")\n",
    "fig_admissoes_desligamentos.update_xaxes(tickmode=\"linear\", dtick=\"M1\", tickangle=45)"
   ]
  },
  {
   "cell_type": "code",
   "execution_count": null,
   "metadata": {},
   "outputs": [],
   "source": [
    "saldo_secao = (\n",
    "    caged.groupby(\"secao_cnae_desc\", as_index=False)\n",
    "    .agg({\"saldomovimentacao\": \"sum\"})\n",
    "    .sort_values(\"saldomovimentacao\", ascending=True)\n",
    ")\n",
    "\n",
    "fig_saldo_secao = px.bar(\n",
    "    saldo_secao,\n",
    "    x=\"saldomovimentacao\",\n",
    "    y=\"secao_cnae_desc\",\n",
    "    orientation='h',\n",
    "    title=\"Saldo de postos de trabalho em 2024 por Seção da CNAE\",\n",
    "    template=TEMPLATE\n",
    ")\n",
    "fig_saldo_secao.show()"
   ]
  },
  {
   "cell_type": "code",
   "execution_count": null,
   "metadata": {},
   "outputs": [],
   "source": [
    "saldo_tamanho_estab = (\n",
    "    caged.groupby(\"tamestabjan_desc\", as_index=False)\n",
    "    .agg({\"saldomovimentacao\": \"sum\"})\n",
    "    .sort_values(\"saldomovimentacao\", ascending=True)\n",
    ")\n",
    "\n",
    "fig_saldo_tamanho_estab = px.bar(\n",
    "    saldo_tamanho_estab,\n",
    "    x=\"saldomovimentacao\",\n",
    "    y=\"tamestabjan_desc\",\n",
    "    orientation='h',\n",
    "    title=\"Saldo de postos de trabalho em 2024 por tamanho do estabelecimento\",\n",
    "    template=TEMPLATE\n",
    ")\n",
    "fig_saldo_tamanho_estab.show()"
   ]
  },
  {
   "cell_type": "code",
   "execution_count": null,
   "metadata": {},
   "outputs": [],
   "source": [
    "saldo_idade = (\n",
    "    caged.groupby(\"idade\", as_index=False)\n",
    "    .agg({\"saldomovimentacao\": \"sum\"})\n",
    "    .sort_values(\"saldomovimentacao\", ascending=True)\n",
    ")\n",
    "\n",
    "fig_saldo_idade = px.bar(\n",
    "    saldo_idade,\n",
    "    x=\"saldomovimentacao\",\n",
    "    y=\"idade\",\n",
    "    orientation='h',\n",
    "    title=\"Saldo de postos de trabalho em 2024 por idade\",\n",
    "    template=TEMPLATE\n",
    ")\n",
    "fig_saldo_idade.show()"
   ]
  },
  {
   "cell_type": "code",
   "execution_count": null,
   "metadata": {},
   "outputs": [],
   "source": [
    "salario_medio_demissoes = caged.loc[caged['saldomovimentacao'] == -1]['salario'].mean().round(2)\n",
    "salario_medio_admissoes = caged.loc[caged['saldomovimentacao'] == 1]['salario'].mean().round(2)\n",
    "\n",
    "print(f\"Salário médio das *demissões* de 2024 = {salario_medio_demissoes}\")\n",
    "print(f\"Salário médio das *admissões* de 2024 = {salario_medio_admissoes}\")"
   ]
  },
  {
   "cell_type": "code",
   "execution_count": null,
   "metadata": {},
   "outputs": [],
   "source": [
    "idade_medio_demissoes = caged.loc[caged['saldomovimentacao'] == -1]['idade'].mean().round(2)\n",
    "idade_medio_admissoes = caged.loc[caged['saldomovimentacao'] == 1]['idade'].mean().round(2)\n",
    "\n",
    "print(f\"Idade médio das *demissões* de 2024 = {idade_medio_demissoes}\")\n",
    "print(f\"Idade médio das *admissões* de 2024 = {idade_medio_admissoes}\")"
   ]
  },
  {
   "cell_type": "code",
   "execution_count": null,
   "metadata": {},
   "outputs": [],
   "source": [
    "(\n",
    "    caged.loc[caged['saldomovimentacao'] == -1]\n",
    "    .groupby('secao_cnae_desc', as_index=False)\n",
    "    ['salario'].mean().round(2)\n",
    "    .sort_values(\"salario\", ascending=False)\n",
    ")"
   ]
  },
  {
   "cell_type": "code",
   "execution_count": null,
   "metadata": {},
   "outputs": [],
   "source": [
    "(\n",
    "    caged.loc[caged['saldomovimentacao'] == 1]\n",
    "    .groupby('secao_cnae_desc', as_index=False)\n",
    "    ['salario'].mean().round(2)\n",
    "    .sort_values(\"salario\", ascending=False)\n",
    ")"
   ]
  },
  {
   "cell_type": "code",
   "execution_count": null,
   "metadata": {},
   "outputs": [],
   "source": [
    "# salarios errados em educação? mais de 2mi por mes, salario fixo = 13k\n",
    "caged.loc[caged['secao_cnae_desc'] == 'Educação'].sort_values(\"salario\", ascending=False).head(1)"
   ]
  },
  {
   "cell_type": "markdown",
   "metadata": {},
   "source": [
    "# RAIS"
   ]
  },
  {
   "cell_type": "code",
   "execution_count": null,
   "metadata": {},
   "outputs": [],
   "source": [
    "rais = pd.read_csv(data_path / \"rais_20250211.csv\", sep=\";\", encoding=\"latin1\")\n",
    "rais_osasco = rais.loc[rais['municipio'].str.contains(\"Osasco\")].copy()\n",
    "\n",
    "vinculos_secao_rais = (\n",
    "    rais_osasco\n",
    "    .groupby(\"secao_cnae\", as_index=False)\n",
    "    .agg({\"qtd_vinculos_clt\":\"sum\"})\n",
    "    .sort_values(\"qtd_vinculos_clt\", ascending=True)\n",
    ")\n",
    "fig_vinculos_secao_rais = px.bar(\n",
    "    vinculos_secao_rais,\n",
    "    x=\"qtd_vinculos_clt\",\n",
    "    y=\"secao_cnae\",\n",
    "    orientation='h',\n",
    "    title=\"Saldo de postos de trabalho em 2024 por Seção da CNAE\",\n",
    "    template=TEMPLATE\n",
    ")\n",
    "fig_vinculos_secao_rais.show()"
   ]
  },
  {
   "cell_type": "markdown",
   "metadata": {},
   "source": [
    "# CNAE\n",
    "\n",
    "Estrutura: \n",
    "- 1º nível: 21 Seções\n",
    "- 2º nível: 87 Divisões\n",
    "- 3° nível: 285 Grupos\n",
    "- 4º nível: 673 Classes\n",
    "- 5º nível: 1301 Subclasses"
   ]
  },
  {
   "cell_type": "code",
   "execution_count": null,
   "metadata": {},
   "outputs": [],
   "source": [
    "aux_path = Path().resolve().parent / \"etl\" / \"data\" / \"aux_tables\"\n",
    "cnae = pd.read_csv(aux_path / \"cnae.csv\", sep=\";\", encoding=\"latin1\")\n",
    "cnae = cnae[\n",
    "    [\n",
    "        \"secao_cnae\",\n",
    "        \"divisao_cnae\",\n",
    "        \"grupo_cnae\",\n",
    "        \"cnae_20_classe_desc\",\n",
    "        \"cnae_20_subclasse_desc\",\n",
    "    ]\n",
    "].sort_values(\n",
    "    [\n",
    "        \"secao_cnae\",\n",
    "        \"divisao_cnae\",\n",
    "        \"grupo_cnae\",\n",
    "        \"cnae_20_classe_desc\",\n",
    "        \"cnae_20_subclasse_desc\",\n",
    "    ]\n",
    ")\n",
    "\n",
    "cnae.loc[cnae['secao_cnae'].str.contains(\"Atividades administrativas e serviços\")]"
   ]
  }
 ],
 "metadata": {
  "kernelspec": {
   "display_name": "base",
   "language": "python",
   "name": "python3"
  },
  "language_info": {
   "codemirror_mode": {
    "name": "ipython",
    "version": 3
   },
   "file_extension": ".py",
   "mimetype": "text/x-python",
   "name": "python",
   "nbconvert_exporter": "python",
   "pygments_lexer": "ipython3",
   "version": "3.12.7"
  }
 },
 "nbformat": 4,
 "nbformat_minor": 2
}
